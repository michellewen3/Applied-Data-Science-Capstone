{
 "cells": [
  {
   "cell_type": "markdown",
   "metadata": {},
   "source": [
    "#### Introduction/Business Problem:"
   ]
  },
  {
   "cell_type": "markdown",
   "metadata": {},
   "source": [
    "New York City and Toronto are both very diverse and are the financial capitals of the US and Canada, respectively. But how similar are they really? Here in this notebook, we will compare the neighborhoods and geospatial data of New York City and Toronto. "
   ]
  },
  {
   "cell_type": "markdown",
   "metadata": {},
   "source": [
    "#### Data:"
   ]
  },
  {
   "cell_type": "markdown",
   "metadata": {},
   "source": [
    "Data for New York City is gathered from https://cocl.us/new_york_dataset\n",
    "Data for Toronto is gathered from https://en.wikipedia.org/wiki/List_of_postal_codes_of_Canada:_M\n",
    "Both datasets will require some manipulation and cleaning to get it in the right format for Python Pandas to turn it into a dataframe that we can use. "
   ]
  },
  {
   "cell_type": "markdown",
   "metadata": {},
   "source": [
    "#### Methodology:"
   ]
  },
  {
   "cell_type": "markdown",
   "metadata": {},
   "source": [
    "For both datasets, we will first import libraries needed to handle the data, such as numpy, pandas, json, geopy, requests, matplotlib, sklearn, and folium."
   ]
  },
  {
   "cell_type": "markdown",
   "metadata": {},
   "source": [
    "After loading the data from the websites, we need to extract relevant data such as the latitude/longitude of the datasets, its neighborhood names, etc. "
   ]
  },
  {
   "cell_type": "markdown",
   "metadata": {},
   "source": [
    "After creating a dataframe in the format that we want, we can create a map of both cities using folium that also displays every neighborhood coordinate. "
   ]
  },
  {
   "cell_type": "markdown",
   "metadata": {},
   "source": [
    "Using Foursquare, we can get the venues surrounding a certain area and the number of nearby venues. "
   ]
  },
  {
   "cell_type": "markdown",
   "metadata": {},
   "source": [
    "We can repeat this process for all neighborhoods in the New York City and Toronto areas. Then, we can analyze each neighborhood and print each neighborhood along with the top 5 most common venues. "
   ]
  },
  {
   "cell_type": "markdown",
   "metadata": {},
   "source": [
    "We can finally cluster the neighborhoods into 5 clusters and create a new dataframe that includes the cluster and 10 venues for each neighborhood. We can visualize the clusters using folium."
   ]
  },
  {
   "cell_type": "markdown",
   "metadata": {},
   "source": [
    "#### Results:"
   ]
  },
  {
   "cell_type": "markdown",
   "metadata": {},
   "source": [
    "From following the methodology, we can get the results of top venues in from both cities along with the neighborhood information and cluster information when the datasets are clustered. Using this information, we can look at the clustering patterns between both cities and the top venues in each neighborhood in each city."
   ]
  },
  {
   "cell_type": "markdown",
   "metadata": {},
   "source": [
    "#### Discussion:"
   ]
  },
  {
   "cell_type": "markdown",
   "metadata": {},
   "source": [
    "The neighborhoods and venues for New York City have a lot more in count than Toronto's and the clustering for the New York City dataset seems to be more evenly spread.   "
   ]
  },
  {
   "cell_type": "markdown",
   "metadata": {},
   "source": [
    "#### Conclusion:"
   ]
  },
  {
   "cell_type": "markdown",
   "metadata": {},
   "source": [
    "The Toronto dataset has fewer data points compared to the New York City dataset, making it slightly harder to do data analysis. The clustering for Toronto as shown in the map does not seem like there are many locations in each cluster (maybe the 5 clusters is too much). However, for New York City, the clustering has more locations in each cluster. "
   ]
  },
  {
   "cell_type": "code",
   "execution_count": null,
   "metadata": {},
   "outputs": [],
   "source": []
  }
 ],
 "metadata": {
  "kernelspec": {
   "display_name": "Python",
   "language": "python",
   "name": "conda-env-python-py"
  },
  "language_info": {
   "codemirror_mode": {
    "name": "ipython",
    "version": 3
   },
   "file_extension": ".py",
   "mimetype": "text/x-python",
   "name": "python",
   "nbconvert_exporter": "python",
   "pygments_lexer": "ipython3",
   "version": "3.6.10"
  }
 },
 "nbformat": 4,
 "nbformat_minor": 4
}
